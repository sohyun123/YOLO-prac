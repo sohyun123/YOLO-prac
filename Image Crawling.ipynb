{
 "cells": [
  {
   "cell_type": "code",
   "execution_count": 1,
   "metadata": {},
   "outputs": [],
   "source": [
    "!pip install -Uqq fastbook"
   ]
  },
  {
   "cell_type": "code",
   "execution_count": 2,
   "metadata": {},
   "outputs": [],
   "source": [
    "import fastbook\n",
    "fastbook.setup_book()"
   ]
  },
  {
   "cell_type": "code",
   "execution_count": 3,
   "metadata": {},
   "outputs": [],
   "source": [
    "from fastbook import *\n",
    "from fastai.vision.widgets import *"
   ]
  },
  {
   "cell_type": "code",
   "execution_count": 4,
   "metadata": {},
   "outputs": [],
   "source": [
    "key = os.environ.get('AZURE_SEARCH_KEY', '')"
   ]
  },
  {
   "cell_type": "code",
   "execution_count": 5,
   "metadata": {},
   "outputs": [
    {
     "data": {
      "text/plain": [
       "<function fastbook.search_images_bing(key, term, min_sz=128, max_images=150)>"
      ]
     },
     "execution_count": 5,
     "metadata": {},
     "output_type": "execute_result"
    }
   ],
   "source": [
    "search_images_bing"
   ]
  },
  {
   "cell_type": "code",
   "execution_count": 6,
   "metadata": {},
   "outputs": [
    {
     "name": "stdout",
     "output_type": "stream",
     "text": [
      "Requirement already satisfied: azure-cognitiveservices-search-imagesearch in /opt/conda/envs/fastai/lib/python3.8/site-packages (2.0.0)\n",
      "Requirement already satisfied: msrestazure<2.0.0,>=0.4.32 in /opt/conda/envs/fastai/lib/python3.8/site-packages (from azure-cognitiveservices-search-imagesearch) (0.6.4)\n",
      "Requirement already satisfied: azure-common~=1.1 in /opt/conda/envs/fastai/lib/python3.8/site-packages (from azure-cognitiveservices-search-imagesearch) (1.1.26)\n",
      "Requirement already satisfied: msrest>=0.5.0 in /opt/conda/envs/fastai/lib/python3.8/site-packages (from azure-cognitiveservices-search-imagesearch) (0.6.19)\n",
      "Requirement already satisfied: adal<2.0.0,>=0.6.0 in /opt/conda/envs/fastai/lib/python3.8/site-packages (from msrestazure<2.0.0,>=0.4.32->azure-cognitiveservices-search-imagesearch) (1.2.5)\n",
      "Requirement already satisfied: six in /opt/conda/envs/fastai/lib/python3.8/site-packages (from msrestazure<2.0.0,>=0.4.32->azure-cognitiveservices-search-imagesearch) (1.15.0)\n",
      "Requirement already satisfied: requests-oauthlib>=0.5.0 in /opt/conda/envs/fastai/lib/python3.8/site-packages (from msrest>=0.5.0->azure-cognitiveservices-search-imagesearch) (1.3.0)\n",
      "Requirement already satisfied: requests~=2.16 in /opt/conda/envs/fastai/lib/python3.8/site-packages (from msrest>=0.5.0->azure-cognitiveservices-search-imagesearch) (2.25.0)\n",
      "Requirement already satisfied: certifi>=2017.4.17 in /opt/conda/envs/fastai/lib/python3.8/site-packages (from msrest>=0.5.0->azure-cognitiveservices-search-imagesearch) (2020.11.8)\n",
      "Requirement already satisfied: isodate>=0.6.0 in /opt/conda/envs/fastai/lib/python3.8/site-packages (from msrest>=0.5.0->azure-cognitiveservices-search-imagesearch) (0.6.0)\n",
      "Requirement already satisfied: python-dateutil>=2.1.0 in /opt/conda/envs/fastai/lib/python3.8/site-packages (from adal<2.0.0,>=0.6.0->msrestazure<2.0.0,>=0.4.32->azure-cognitiveservices-search-imagesearch) (2.8.1)\n",
      "Requirement already satisfied: PyJWT>=1.0.0 in /opt/conda/envs/fastai/lib/python3.8/site-packages (from adal<2.0.0,>=0.6.0->msrestazure<2.0.0,>=0.4.32->azure-cognitiveservices-search-imagesearch) (1.7.1)\n",
      "Requirement already satisfied: cryptography>=1.1.0 in /opt/conda/envs/fastai/lib/python3.8/site-packages (from adal<2.0.0,>=0.6.0->msrestazure<2.0.0,>=0.4.32->azure-cognitiveservices-search-imagesearch) (3.2.1)\n",
      "Requirement already satisfied: oauthlib>=3.0.0 in /opt/conda/envs/fastai/lib/python3.8/site-packages (from requests-oauthlib>=0.5.0->msrest>=0.5.0->azure-cognitiveservices-search-imagesearch) (3.1.0)\n",
      "Requirement already satisfied: chardet<4,>=3.0.2 in /opt/conda/envs/fastai/lib/python3.8/site-packages (from requests~=2.16->msrest>=0.5.0->azure-cognitiveservices-search-imagesearch) (3.0.4)\n",
      "Requirement already satisfied: idna<3,>=2.5 in /opt/conda/envs/fastai/lib/python3.8/site-packages (from requests~=2.16->msrest>=0.5.0->azure-cognitiveservices-search-imagesearch) (2.10)\n",
      "Requirement already satisfied: urllib3<1.27,>=1.21.1 in /opt/conda/envs/fastai/lib/python3.8/site-packages (from requests~=2.16->msrest>=0.5.0->azure-cognitiveservices-search-imagesearch) (1.25.11)\n",
      "Requirement already satisfied: cffi!=1.11.3,>=1.8 in /opt/conda/envs/fastai/lib/python3.8/site-packages (from cryptography>=1.1.0->adal<2.0.0,>=0.6.0->msrestazure<2.0.0,>=0.4.32->azure-cognitiveservices-search-imagesearch) (1.14.3)\n",
      "Requirement already satisfied: pycparser in /opt/conda/envs/fastai/lib/python3.8/site-packages (from cffi!=1.11.3,>=1.8->cryptography>=1.1.0->adal<2.0.0,>=0.6.0->msrestazure<2.0.0,>=0.4.32->azure-cognitiveservices-search-imagesearch) (2.20)\n"
     ]
    }
   ],
   "source": [
    "!pip install azure-cognitiveservices-search-imagesearch"
   ]
  },
  {
   "cell_type": "code",
   "execution_count": 7,
   "metadata": {},
   "outputs": [],
   "source": [
    "from itertools import chain\n",
    "\n",
    "from azure.cognitiveservices.search.imagesearch import ImageSearchClient as api\n",
    "from msrest.authentication import CognitiveServicesCredentials as auth\n",
    "\n",
    "\n",
    "def search_images_bing_many(key, term, total_count=150, min_sz=224):\n",
    "    \"\"\"Search for images using the Bing API\n",
    "    \n",
    "    :param key: Your Bing API key\n",
    "    :type key: str\n",
    "    :param term: The search term to search for\n",
    "    :type term: str\n",
    "    :param total_count: The total number of images you want to return (default is 150)\n",
    "    :type total_count: int\n",
    "    :param min_sz: the minimum height and width of the images to search for (default is 128)\n",
    "    :type min_sz: int\n",
    "    :returns: An L-collection of ImageObject\n",
    "    :rtype: L\n",
    "    \"\"\"\n",
    "    headers = {\"Ocp-Apim-Subscription-Key\":key}\n",
    "    search_url = \"https://api.bing.microsoft.com/v7.0/images/search\"\n",
    "\n",
    "    max_count = 150\n",
    "\n",
    "    imgs = []\n",
    "    for offset in range(0, total_count, max_count):\n",
    "        if ((total_count - offset) > max_count):\n",
    "            count = max_count\n",
    "        else:\n",
    "            count = total_count - offset\n",
    "\n",
    "        params = {'q':term, 'count':count, 'min_height':min_sz, 'min_width':min_sz, 'offset': offset}\n",
    "        response = requests.get(search_url, headers=headers, params=params)\n",
    "        search_results = response.json()\n",
    "        imgs.append(L(search_results['value']))\n",
    "\n",
    "    return L(chain(*imgs)).attrgot('contentUrl').unique()"
   ]
  },
  {
   "cell_type": "code",
   "execution_count": 8,
   "metadata": {},
   "outputs": [],
   "source": [
    "from utils import *"
   ]
  },
  {
   "cell_type": "code",
   "execution_count": 9,
   "metadata": {},
   "outputs": [],
   "source": [
    " def search_images_bing(key, term, max_images: int = 200, **kwargs):    \n",
    "     params = {'q':term, 'count':max_images}\n",
    "     headers = {\"Ocp-Apim-Subscription-Key\":key}\n",
    "     search_url = \"https://api.bing.microsoft.com/v7.0/images/search\"\n",
    "     response = requests.get(search_url, headers=headers, params=params)\n",
    "     response.raise_for_status()\n",
    "     search_results = response.json()    \n",
    "     return L(search_results['value'])"
   ]
  },
  {
   "cell_type": "code",
   "execution_count": 10,
   "metadata": {},
   "outputs": [
    {
     "data": {
      "text/plain": [
       "150"
      ]
     },
     "execution_count": 10,
     "metadata": {},
     "output_type": "execute_result"
    }
   ],
   "source": [
    "results = search_images_bing(key, 'cat', min_sz=128)\n",
    "ims = results.attrgot('contentUrl')\n",
    "len(ims)"
   ]
  },
  {
   "cell_type": "code",
   "execution_count": 15,
   "metadata": {},
   "outputs": [],
   "source": [
    "animal_types = 'cat','dog','horse', 'sheep'\n",
    "path = Path('animals')"
   ]
  },
  {
   "cell_type": "code",
   "execution_count": 16,
   "metadata": {},
   "outputs": [
    {
     "data": {
      "text/plain": [
       "('cat', 'dog', 'horse', 'sheep')"
      ]
     },
     "execution_count": 16,
     "metadata": {},
     "output_type": "execute_result"
    }
   ],
   "source": [
    "animal_types"
   ]
  },
  {
   "cell_type": "code",
   "execution_count": 17,
   "metadata": {},
   "outputs": [
    {
     "data": {
      "text/plain": [
       "False"
      ]
     },
     "execution_count": 17,
     "metadata": {},
     "output_type": "execute_result"
    }
   ],
   "source": [
    "path.exists()"
   ]
  },
  {
   "cell_type": "code",
   "execution_count": 18,
   "metadata": {},
   "outputs": [
    {
     "data": {
      "text/html": [],
      "text/plain": [
       "<IPython.core.display.HTML object>"
      ]
     },
     "metadata": {},
     "output_type": "display_data"
    },
    {
     "data": {
      "text/html": [],
      "text/plain": [
       "<IPython.core.display.HTML object>"
      ]
     },
     "metadata": {},
     "output_type": "display_data"
    },
    {
     "data": {
      "text/html": [],
      "text/plain": [
       "<IPython.core.display.HTML object>"
      ]
     },
     "metadata": {},
     "output_type": "display_data"
    },
    {
     "data": {
      "text/html": [],
      "text/plain": [
       "<IPython.core.display.HTML object>"
      ]
     },
     "metadata": {},
     "output_type": "display_data"
    }
   ],
   "source": [
    "if not path.exists():\n",
    "    path.mkdir()\n",
    "    for o in animal_types:\n",
    "        dest = (path/o)\n",
    "        dest.mkdir(exist_ok=True)\n",
    "        results = search_images_bing_many(key, f'{o}',total_count=150)\n",
    "        download_images(dest, urls=results)"
   ]
  },
  {
   "cell_type": "code",
   "execution_count": null,
   "metadata": {},
   "outputs": [],
   "source": []
  }
 ],
 "metadata": {
  "kernelspec": {
   "display_name": "Python 3",
   "language": "python",
   "name": "python3"
  },
  "language_info": {
   "codemirror_mode": {
    "name": "ipython",
    "version": 3
   },
   "file_extension": ".py",
   "mimetype": "text/x-python",
   "name": "python",
   "nbconvert_exporter": "python",
   "pygments_lexer": "ipython3",
   "version": "3.8.5"
  }
 },
 "nbformat": 4,
 "nbformat_minor": 4
}
